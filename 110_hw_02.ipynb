{
 "cells": [
  {
   "cell_type": "markdown",
   "metadata": {},
   "source": [
    "# Курс \"Алгортимы анализа данных\""
   ]
  },
  {
   "cell_type": "markdown",
   "metadata": {},
   "source": [
    "## Практическое задание урока 2. Масштабирование признаков. L1- и L2-регуляризация. Стохастический градиентный спуск"
   ]
  },
  {
   "cell_type": "markdown",
   "metadata": {},
   "source": [
    "### Задание 1"
   ]
  },
  {
   "cell_type": "markdown",
   "metadata": {},
   "source": [
    "**Задание 1.1.** Модифицировать реализацию линейной регрессии из предыдущего урока, добавив l2 регуляризационную поправку к штрафной функции: +𝑐∗∑(𝑤_j)^2 и соответствующую к выражению для производной."
   ]
  },
  {
   "cell_type": "markdown",
   "metadata": {},
   "source": [
    "**Решение**"
   ]
  },
  {
   "cell_type": "code",
   "execution_count": 20,
   "metadata": {},
   "outputs": [],
   "source": [
    "import matplotlib\n",
    "import numpy as np\n",
    "import matplotlib.pyplot as plt\n",
    "%matplotlib inline"
   ]
  },
  {
   "cell_type": "code",
   "execution_count": 21,
   "metadata": {},
   "outputs": [],
   "source": [
    "# Возьмем 2 признака и 1000 объектов\n",
    "n_features = 2\n",
    "n_objects = 1000\n",
    "\n",
    "# сгенерируем вектор истинных весов\n",
    "w_true = np.random.normal(size=(n_features, ))\n",
    "\n",
    "# сгенерируем матрицу X, вычислим Y с добавлением случайного шума\n",
    "X = np.random.uniform(-7, 7, (n_objects, n_features))\n",
    "Y = X.dot(w_true) + np.random.normal(0, 0.5, size=(n_objects))\n",
    "\n",
    "# возьмем нулевые начальные веса\n",
    "w = np.zeros(n_features)"
   ]
  },
  {
   "cell_type": "code",
   "execution_count": 22,
   "metadata": {},
   "outputs": [
    {
     "name": "stdout",
     "output_type": "stream",
     "text": [
      "В случае использования нормального уравнения функционал ошибки составляет 0.423\n"
     ]
    }
   ],
   "source": [
    "# реализуем функцию, определяющую среднеквадратичную ошибку\n",
    "def mserror(X, w, y_pred, c=0.1):\n",
    "    y = X.dot(w)\n",
    "    # c*w.dot(w.T) - регуляризационная поправка\n",
    "    # коэффициент c взяли по умолчанию равным 0.1\n",
    "    return (sum((y - y_pred)**2)) / len(y) + c*w.dot(w.T)\n",
    "\n",
    "def normal_equation(X, y):\n",
    "    return np.linalg.solve((X.T).dot(X), (X.T).dot(y))\n",
    "\n",
    "normal_eq_w = normal_equation(X, Y)\n",
    "print(f'В случае использования нормального уравнения функционал ошибки составляет {round(mserror(X, normal_eq_w, Y), 4)}')"
   ]
  },
  {
   "cell_type": "code",
   "execution_count": 23,
   "metadata": {},
   "outputs": [
    {
     "name": "stdout",
     "output_type": "stream",
     "text": [
      "13.529379888605757\n",
      "6.139008738742784\n",
      "2.927683172573783\n",
      "1.528124990631707\n",
      "0.9154988454359352\n",
      "0.6456112502813124\n",
      "0.5256033609357633\n",
      "0.47152764715650974\n",
      "0.44670679516840445\n",
      "0.4350280931335069\n",
      "0.4293562480021702\n",
      "0.4264949584074699\n",
      "0.42498906888739263\n",
      "0.4241613267772819\n",
      "0.42368731935644216\n",
      "0.4234060304590083\n",
      "0.42323421009048334\n",
      "0.42312690675660214\n",
      "0.423058798495822\n",
      "0.4230150676754213\n",
      "0.42298676386322287\n",
      "0.42296834456723603\n",
      "0.4229563134461838\n",
      "0.42294843536407256\n",
      "0.4229432680750611\n",
      "0.4229398749782464\n",
      "0.42293764519028565\n",
      "0.42293617910117776\n",
      "0.422935214788818\n",
      "0.422934580349253\n",
      "0.42293416285729046\n",
      "0.4229338880857201\n",
      "0.4229337072231961\n",
      "0.42293358816198756\n",
      "0.4229335097772212\n",
      "0.42293345816774386\n",
      "0.42293342418474456\n",
      "0.4229334018064329\n",
      "0.42293338706886796\n",
      "0.42293337736249903\n",
      "0.4229333709692642\n",
      "0.4229333667579516\n",
      "0.422933363983687\n",
      "0.42293336215595756\n"
     ]
    }
   ],
   "source": [
    "# список векторов весов после каждой итерации\n",
    "w_list = [w.copy()]\n",
    "\n",
    "# список значений ошибок после каждой итерации\n",
    "errors = []\n",
    "\n",
    "# шаг градиентного спуска\n",
    "alpha = 0.01\n",
    "\n",
    "# максимальное число итераций\n",
    "max_iter = 1e4\n",
    "\n",
    "# критерий сходимости (разница весов, при которой алгоритм останавливается)\n",
    "min_weight_dist = 1e-8\n",
    "\n",
    "# зададим начальную разницу весов большим числом\n",
    "weight_dist = np.inf\n",
    "\n",
    "# счетчик итераций\n",
    "iter_num = 0\n",
    "\n",
    "def grad(x, w, y, c):\n",
    "    # 2*c*w - регуляризационная поправка\n",
    "    return np.dot(x.T, (np.dot(x, w) - y)) / y.shape[0] + 2*c*w\n",
    "\n",
    "# ход градиентного спуска\n",
    "w = np.zeros(n_features)\n",
    "while weight_dist > min_weight_dist and iter_num < max_iter:\n",
    "    new_w = w -  alpha * 2 * grad(X, w, Y, 0.1)  # коэффициент c=0.1\n",
    "    weight_dist = np.linalg.norm(new_w - w, ord=2)\n",
    "    \n",
    "    w_list.append(new_w.copy())\n",
    "    cur_error=mserror(X, new_w, Y, 0.1)  # коэффициент c=0.1\n",
    "    print(cur_error)\n",
    "    errors.append(cur_error)\n",
    "    \n",
    "    iter_num += 1\n",
    "    w = new_w\n",
    "    \n",
    "w_list = np.array(w_list)\n"
   ]
  },
  {
   "cell_type": "code",
   "execution_count": 25,
   "metadata": {},
   "outputs": [
    {
     "data": {
      "image/png": "[encoded data removed]",
      "text/plain": [
       "<Figure size 936x432 with 1 Axes>"
      ]
     },
     "metadata": {
      "needs_background": "light"
     },
     "output_type": "display_data"
    }
   ],
   "source": [
    "# Визуализируем изменение весов (красной точкой обозначены истинные веса, сгенерированные вначале)\n",
    "plt.figure(figsize=(13, 6))\n",
    "plt.title('Gradient descent')\n",
    "plt.xlabel(r'$w_1$')\n",
    "plt.ylabel(r'$w_2$')\n",
    "\n",
    "plt.scatter(w_list[:, 0], w_list[:, 1])\n",
    "plt.scatter(w_true[0], w_true[1], c='r')\n",
    "plt.plot(w_list[:, 0], w_list[:, 1])\n",
    "\n",
    "plt.show()"
   ]
  },
  {
   "cell_type": "code",
   "execution_count": 26,
   "metadata": {},
   "outputs": [
    {
     "data": {
      "text/plain": [
       "Text(0, 0.5, 'MSE')"
      ]
     },
     "execution_count": 26,
     "metadata": {},
     "output_type": "execute_result"
    },
    {
     "data": {
      "image/png": "[encoded data removed]",
      "text/plain": [
       "<Figure size 432x288 with 1 Axes>"
      ]
     },
     "metadata": {
      "needs_background": "light"
     },
     "output_type": "display_data"
    }
   ],
   "source": [
    "# Визуализируем изменение функционала ошибки\n",
    "plt.plot(np.arange(len(errors)), errors)\n",
    "plt.title('MSE')\n",
    "plt.xlabel('Iteration number')\n",
    "plt.ylabel('MSE')"
   ]
  },
  {
   "cell_type": "code",
   "execution_count": 27,
   "metadata": {},
   "outputs": [
    {
     "data": {
      "text/plain": [
       "Text(0, 0.5, 'log(MSE)')"
      ]
     },
     "execution_count": 27,
     "metadata": {},
     "output_type": "execute_result"
    },
    {
     "data": {
      "image/png": "[encoded data removed]",
      "text/plain": [
       "<Figure size 432x288 with 1 Axes>"
      ]
     },
     "metadata": {
      "needs_background": "light"
     },
     "output_type": "display_data"
    }
   ],
   "source": [
    "# Визуализируем изменение функционала ошибки\n",
    "plt.plot(np.arange(len(errors)), np.log(np.array(errors)))\n",
    "plt.title('Log(MSE)')\n",
    "plt.xlabel('Iteration number')\n",
    "plt.ylabel('log(MSE)')"
   ]
  },
  {
   "cell_type": "markdown",
   "metadata": {},
   "source": [
    "**Задание 1.2.** Опробовать реализацию на примере с полиномиальными фичами 6го порядка из данного урока. При каком значении С в воспроизводимой функции не будет воспроизводить несуществующий минимум в окрестностях x=7,5?"
   ]
  },
  {
   "cell_type": "markdown",
   "metadata": {},
   "source": [
    "**Решение**"
   ]
  },
  {
   "cell_type": "markdown",
   "metadata": {},
   "source": [
    "Пример: Допустим, у нас есть исходная известная зависимость 3-го порядка:\n",
    "\n",
    "$$f(x) = 0.6 - 13.2x - 5.3 x^{2} - 4.17x^{3}.$$\n",
    "\n",
    "Реализуем ее в виде python-функции и построим график."
   ]
  },
  {
   "cell_type": "code",
   "execution_count": 28,
   "metadata": {},
   "outputs": [],
   "source": [
    "def f(x):\n",
    "    return 0.6 - 13.2 * x - 5.3 * x ** 2 - 4.17 * x ** 3"
   ]
  },
  {
   "cell_type": "code",
   "execution_count": 29,
   "metadata": {},
   "outputs": [
    {
     "data": {
      "text/plain": [
       "[<matplotlib.lines.Line2D at 0x1bd53c2de48>]"
      ]
     },
     "execution_count": 29,
     "metadata": {},
     "output_type": "execute_result"
    },
    {
     "data": {
      "image/png": "[encoded data removed]",
      "text/plain": [
       "<Figure size 432x288 with 1 Axes>"
      ]
     },
     "metadata": {
      "needs_background": "light"
     },
     "output_type": "display_data"
    }
   ],
   "source": [
    "dots = np.linspace(-10, 10, 100)\n",
    "plt.xlabel('x')\n",
    "plt.ylabel('f(x)')\n",
    "plt.ylim(-5000, 5000)\n",
    "plt.xlim(-10,10)\n",
    "\n",
    "plt.plot(dots, f(dots), color='g')"
   ]
  },
  {
   "cell_type": "markdown",
   "metadata": {},
   "source": [
    "Теперь сгенерируем датасет из десяти случайных точек, подчиняющихся этой зависимости, с добавлением шума и нанесем на график."
   ]
  },
  {
   "cell_type": "code",
   "execution_count": 30,
   "metadata": {},
   "outputs": [],
   "source": [
    "np.random.seed(16)\n",
    "x_data = np.random.uniform(-10, 10, 10)\n",
    "f_data = [f(i) for i in x_data] + np.random.uniform(-1000, 1000, 10)"
   ]
  },
  {
   "cell_type": "code",
   "execution_count": 31,
   "metadata": {},
   "outputs": [
    {
     "data": {
      "text/plain": [
       "<matplotlib.collections.PathCollection at 0x1bd53b5d1c8>"
      ]
     },
     "execution_count": 31,
     "metadata": {},
     "output_type": "execute_result"
    },
    {
     "data": {
      "image/png": "[encoded data removed]",
      "text/plain": [
       "<Figure size 432x288 with 1 Axes>"
      ]
     },
     "metadata": {
      "needs_background": "light"
     },
     "output_type": "display_data"
    }
   ],
   "source": [
    "plt.xlabel('x')\n",
    "plt.ylabel('f(x)')\n",
    "plt.ylim(-5000, 5000)\n",
    "plt.xlim(-10,10)\n",
    "\n",
    "plt.plot(dots, f(dots), color='g')\n",
    "plt.scatter(x_data, f_data)"
   ]
  },
  {
   "cell_type": "markdown",
   "metadata": {},
   "source": [
    "Теперь попробуем создать модель, способную восстановить исходную зависимость."
   ]
  },
  {
   "cell_type": "code",
   "execution_count": 32,
   "metadata": {},
   "outputs": [
    {
     "data": {
      "text/plain": [
       "Pipeline(memory=None,\n",
       "         steps=[('polynomialfeatures',\n",
       "                 PolynomialFeatures(degree=6, include_bias=True,\n",
       "                                    interaction_only=False, order='C')),\n",
       "                ('linearregression',\n",
       "                 LinearRegression(copy_X=True, fit_intercept=True, n_jobs=None,\n",
       "                                  normalize=False))],\n",
       "         verbose=False)"
      ]
     },
     "execution_count": 32,
     "metadata": {},
     "output_type": "execute_result"
    }
   ],
   "source": [
    "from sklearn import linear_model\n",
    "from sklearn.preprocessing import PolynomialFeatures\n",
    "from sklearn.pipeline import make_pipeline\n",
    "\n",
    "# создадим модель 6-й степени\n",
    "sixth_degree_regressor = make_pipeline(PolynomialFeatures(degree=6), linear_model.LinearRegression())\n",
    "\n",
    "# обучим ее\n",
    "sixth_degree_regressor.fit(np.reshape(x_data, (-1, 1)), f_data)"
   ]
  },
  {
   "cell_type": "code",
   "execution_count": 33,
   "metadata": {},
   "outputs": [
    {
     "name": "stdout",
     "output_type": "stream",
     "text": [
      "[ 0.00000000e+00  3.18714291e+02  5.91424507e+01 -2.19724981e+01\n",
      " -2.73548014e+00  1.79059852e-01  2.46511203e-02]\n",
      "-441.3664888532876\n"
     ]
    }
   ],
   "source": [
    "# выведем полученные веса при признаках и свободный коэффициент\n",
    "print(sixth_degree_regressor.named_steps.linearregression.coef_)\n",
    "print(sixth_degree_regressor.named_steps.linearregression.intercept_)"
   ]
  },
  {
   "cell_type": "code",
   "execution_count": 34,
   "metadata": {},
   "outputs": [
    {
     "data": {
      "text/plain": [
       "[<matplotlib.lines.Line2D at 0x1bd55ca3fc8>]"
      ]
     },
     "execution_count": 34,
     "metadata": {},
     "output_type": "execute_result"
    },
    {
     "data": {
      "image/png": "[encoded data removed]",
      "text/plain": [
       "<Figure size 432x288 with 1 Axes>"
      ]
     },
     "metadata": {
      "needs_background": "light"
     },
     "output_type": "display_data"
    }
   ],
   "source": [
    "# Нанесем полученную зависимость на график\n",
    "plt.xlabel('x')\n",
    "plt.ylabel('f(x)')\n",
    "plt.ylim(-5000, 5000)\n",
    "plt.xlim(-10,10)\n",
    "\n",
    "plt.plot(dots, f(dots), color='g')\n",
    "plt.scatter(x_data, f_data)\n",
    "plt.plot(dots, sixth_degree_regressor.predict(np.reshape(dots, (-1, 1))), color='r')"
   ]
  },
  {
   "cell_type": "code",
   "execution_count": 80,
   "metadata": {},
   "outputs": [
    {
     "data": {
      "text/plain": [
       "Pipeline(memory=None,\n",
       "         steps=[('polynomialfeatures',\n",
       "                 PolynomialFeatures(degree=6, include_bias=True,\n",
       "                                    interaction_only=False, order='C')),\n",
       "                ('ridge',\n",
       "                 Ridge(alpha=0.4, copy_X=True, fit_intercept=True,\n",
       "                       max_iter=None, normalize=False, random_state=None,\n",
       "                       solver='auto', tol=0.001))],\n",
       "         verbose=False)"
      ]
     },
     "execution_count": 80,
     "metadata": {},
     "output_type": "execute_result"
    }
   ],
   "source": [
    "# создадим модель 6-й степени с регуляризацией\n",
    "sixth_reg_degree_regressor = make_pipeline(PolynomialFeatures(degree=6), linear_model.Ridge(alpha=0.4))\n",
    "\n",
    "# обучим ее\n",
    "sixth_reg_degree_regressor.fit(np.reshape(x_data, (-1, 1)), f_data)"
   ]
  },
  {
   "cell_type": "code",
   "execution_count": 81,
   "metadata": {},
   "outputs": [
    {
     "data": {
      "text/plain": [
       "[<matplotlib.lines.Line2D at 0x1bd5764bec8>]"
      ]
     },
     "execution_count": 81,
     "metadata": {},
     "output_type": "execute_result"
    },
    {
     "data": {
      "image/png": "[encoded data removed]",
      "text/plain": [
       "<Figure size 432x288 with 1 Axes>"
      ]
     },
     "metadata": {
      "needs_background": "light"
     },
     "output_type": "display_data"
    }
   ],
   "source": [
    "# Нанесем полученную зависимость на график\n",
    "plt.xlabel('x')\n",
    "plt.ylabel('f(x)')\n",
    "plt.ylim(-5000, 5000)\n",
    "plt.xlim(-10,10)\n",
    "\n",
    "plt.plot(dots, f(dots), color='g')\n",
    "plt.scatter(x_data, f_data)\n",
    "\n",
    "plt.plot(dots, sixth_degree_regressor.predict(np.reshape(dots, (-1, 1))), color='r')\n",
    "plt.plot(dots, sixth_reg_degree_regressor.predict(np.reshape(dots, (-1, 1))), color='b')"
   ]
  },
  {
   "cell_type": "code",
   "execution_count": 82,
   "metadata": {},
   "outputs": [
    {
     "data": {
      "text/plain": [
       "Pipeline(memory=None,\n",
       "         steps=[('polynomialfeatures',\n",
       "                 PolynomialFeatures(degree=6, include_bias=True,\n",
       "                                    interaction_only=False, order='C')),\n",
       "                ('ridge',\n",
       "                 Ridge(alpha=1, copy_X=True, fit_intercept=True, max_iter=None,\n",
       "                       normalize=False, random_state=None, solver='auto',\n",
       "                       tol=0.001))],\n",
       "         verbose=False)"
      ]
     },
     "execution_count": 82,
     "metadata": {},
     "output_type": "execute_result"
    }
   ],
   "source": [
    "# создадим модель 6-й степени с регуляризацией\n",
    "sixth_reg_degree_regressor = make_pipeline(PolynomialFeatures(degree=6), linear_model.Ridge(alpha=1))\n",
    "\n",
    "# обучим ее\n",
    "sixth_reg_degree_regressor.fit(np.reshape(x_data, (-1, 1)), f_data)"
   ]
  },
  {
   "cell_type": "code",
   "execution_count": 83,
   "metadata": {},
   "outputs": [
    {
     "data": {
      "text/plain": [
       "[<matplotlib.lines.Line2D at 0x1bd576bca48>]"
      ]
     },
     "execution_count": 83,
     "metadata": {},
     "output_type": "execute_result"
    },
    {
     "data": {
      "image/png": "[encoded data removed]",
      "text/plain": [
       "<Figure size 432x288 with 1 Axes>"
      ]
     },
     "metadata": {
      "needs_background": "light"
     },
     "output_type": "display_data"
    }
   ],
   "source": [
    "# Нанесем полученную зависимость на график\n",
    "plt.xlabel('x')\n",
    "plt.ylabel('f(x)')\n",
    "plt.ylim(-5000, 5000)\n",
    "plt.xlim(-10,10)\n",
    "\n",
    "plt.plot(dots, f(dots), color='g')\n",
    "plt.scatter(x_data, f_data)\n",
    "\n",
    "plt.plot(dots, sixth_degree_regressor.predict(np.reshape(dots, (-1, 1))), color='r')\n",
    "plt.plot(dots, sixth_reg_degree_regressor.predict(np.reshape(dots, (-1, 1))), color='b')"
   ]
  },
  {
   "cell_type": "markdown",
   "metadata": {},
   "source": [
    "**Ответ:** при C=0.4 модель воспроизводит локальный минимум, но уже не в точке 7.5. Более лучший результат достигается при C=1.0"
   ]
  },
  {
   "cell_type": "markdown",
   "metadata": {},
   "source": [
    "### Задание 2"
   ]
  },
  {
   "cell_type": "markdown",
   "metadata": {},
   "source": [
    "Модифицировать пример со стохастическим градиентом из этого урока, реализовав в нём расчёт градиента по десяти случайно выбираемым объектам (mini-batch градиент).\n",
    "\n",
    "- ЗАДАНИЕ НЕ ВЫПОЛНЕНО"
   ]
  },
  {
   "cell_type": "markdown",
   "metadata": {},
   "source": [
    "**Решение**"
   ]
  },
  {
   "cell_type": "markdown",
   "metadata": {},
   "source": [
    "Реализуем стохастический градиентный спуск."
   ]
  },
  {
   "cell_type": "code",
   "execution_count": 1,
   "metadata": {},
   "outputs": [],
   "source": [
    "import numpy as np\n",
    "from sklearn import datasets\n",
    "import matplotlib.pyplot as plt\n",
    "\n",
    "%matplotlib inline"
   ]
  },
  {
   "cell_type": "code",
   "execution_count": 2,
   "metadata": {},
   "outputs": [],
   "source": [
    "# сгенерируем набор данных\n",
    "data, target, coef = datasets.make_regression(n_samples=1000, n_features = 2, n_informative = 2, n_targets = 1, \n",
    "                                              noise = 5, coef = True, random_state = 2)"
   ]
  },
  {
   "cell_type": "markdown",
   "metadata": {},
   "source": [
    "Отмасштабируем получившиеся признаки методом стандартизации."
   ]
  },
  {
   "cell_type": "code",
   "execution_count": 3,
   "metadata": {},
   "outputs": [],
   "source": [
    "# Получим средние значения и стандартное отклонение по столбцам\n",
    "\n",
    "means = np.mean(data, axis=0)\n",
    "stds = np.std(data, axis=0)\n",
    "# параметр axis указывается для вычисления значений по столбцам, а не по всему массиву\n",
    "#(см. документацию в разделе источников)\n",
    "\n",
    "# вычтем каждое значение признака из среднего и поделим на стандартное отклонение\n",
    "for i in range(data.shape[0]):\n",
    "    for j in range(data.shape[1]):\n",
    "        data[i][j] = (data[i][j] - means[j])/stds[j]"
   ]
  },
  {
   "cell_type": "code",
   "execution_count": 4,
   "metadata": {},
   "outputs": [],
   "source": [
    "# реализуем функцию, определяющую среднеквадратичную ошибку\n",
    "def mserror(X, w, y_pred):\n",
    "    y = X.dot(w)\n",
    "    return (sum((y - y_pred)**2)) / len(y)"
   ]
  },
  {
   "cell_type": "markdown",
   "metadata": {},
   "source": [
    "Подготовка данных и средств проверки закончена."
   ]
  },
  {
   "cell_type": "markdown",
   "metadata": {},
   "source": [
    "### Стохастический градиентный спуск"
   ]
  },
  {
   "cell_type": "code",
   "execution_count": 20,
   "metadata": {},
   "outputs": [
    {
     "name": "stdout",
     "output_type": "stream",
     "text": [
      "8190.666400278678\n",
      "7868.753582703475\n",
      "7552.176708022045\n",
      "7259.789173320224\n",
      "6978.842338857329\n",
      "6711.147732739624\n",
      "6465.024549418812\n",
      "6193.478468202817\n",
      "5952.161582141672\n",
      "5739.3796873030105\n",
      "5523.839223473497\n",
      "5325.932157005784\n",
      "5129.163500347651\n",
      "4933.476091014136\n",
      "4740.948807699323\n",
      "4560.0636957114275\n",
      "4389.471806845338\n",
      "4222.841072793941\n",
      "4057.27949070885\n",
      "3883.22606736391\n",
      "3730.1032823480377\n",
      "3587.853308872341\n",
      "3445.0583250162367\n",
      "3327.479598923909\n",
      "3196.3267522188453\n",
      "3069.9410087470965\n",
      "2944.961180766486\n",
      "2825.302164209918\n",
      "2714.644474373037\n",
      "2605.4646800664736\n",
      "2501.4991915348905\n",
      "2403.138363888203\n",
      "2311.435369461309\n",
      "2227.2752643200065\n",
      "2140.365610877901\n",
      "2067.702935726182\n",
      "1987.5459166793892\n",
      "1907.6856964699145\n",
      "1831.744304944092\n",
      "1761.107616288086\n",
      "1692.0716424918924\n",
      "1629.5493937699832\n",
      "1572.5943618285678\n",
      "1513.61590582835\n",
      "1455.1174954572207\n",
      "1401.943729514938\n",
      "1351.7369963721633\n",
      "1295.4569356472489\n",
      "1245.394602285046\n",
      "1199.059107707529\n",
      "1153.3476244994463\n",
      "1109.8075842814014\n",
      "1068.0603086692986\n",
      "1030.9713642382635\n",
      "993.3096852300594\n",
      "956.5660934659073\n",
      "921.443217930707\n",
      "885.9194442139021\n",
      "852.4251737476633\n",
      "817.8658457319632\n",
      "787.6269358658091\n",
      "756.4787324724116\n",
      "729.8854862981633\n",
      "703.5060604297884\n",
      "677.3856176375231\n",
      "654.4689737307925\n",
      "631.5396733157406\n",
      "608.304647009152\n",
      "587.0303806445294\n",
      "565.7035949650333\n",
      "544.0633511421083\n",
      "524.8124962821796\n",
      "505.14839935698103\n",
      "486.84262757327116\n",
      "469.5127530142235\n",
      "453.5188917451619\n",
      "437.7724667388433\n",
      "421.87860759934904\n",
      "407.9193670850432\n",
      "393.2078322270388\n",
      "379.2348493046\n",
      "366.3638659590251\n",
      "354.0837143576599\n",
      "341.85887379513844\n",
      "329.8719294513386\n",
      "318.50111433884734\n",
      "307.6242996330531\n",
      "297.3913689962576\n",
      "287.79826351226404\n",
      "277.16937786892714\n",
      "268.48406840478697\n",
      "259.52941142348806\n",
      "250.89728032547077\n",
      "В случае использования стохастического градиентного спуска функционал ошибки составляет 248.3494\n"
     ]
    }
   ],
   "source": [
    "# инициализируем начальный вектор весов\n",
    "w = np.zeros(2)\n",
    "\n",
    "# список векторов весов после каждой итерации\n",
    "w_list = [w.copy()]\n",
    "\n",
    "# список значений ошибок после каждой итерации\n",
    "errors = []\n",
    "\n",
    "# шаг градиентного спуска\n",
    "alpha = 0.01\n",
    "\n",
    "# максимальное число итераций\n",
    "max_iter = 1e5\n",
    "\n",
    "# критерий сходимости (разница весов, при которой алгоритм останавливается)\n",
    "min_weight_dist = 1e-8\n",
    "\n",
    "# зададим начальную разницу весов большим числом\n",
    "weight_dist = np.inf\n",
    "\n",
    "# счетчик итераций\n",
    "iter_num = 0\n",
    "\n",
    "# функция для генерации одного и того же случайного числа\n",
    "np.random.seed(1234)  \n",
    "\n",
    "# ход градиентного спуска (уменьшаем на каждой итерации ошибку только на одном объекте)\n",
    "while weight_dist > min_weight_dist and iter_num < max_iter:\n",
    "     \n",
    "    # генерируем случайный индекс объекта выборки\n",
    "    train_ind = np.random.randint(data.shape[0])\n",
    "    \n",
    "    new_w = w - 2 * alpha * np.dot(data[train_ind].T, (np.dot(data[train_ind], w) - target[train_ind])) / target.shape[0]\n",
    "\n",
    "    weight_dist = np.linalg.norm(new_w - w, ord=2)\n",
    "    \n",
    "    w_list.append(new_w.copy())\n",
    "    error=mserror(data, new_w, target)\n",
    "    errors.append(error)\n",
    "    if iter_num %1000==0:\n",
    "        print(error)\n",
    "    \n",
    "    iter_num += 1\n",
    "    w = new_w\n",
    "    \n",
    "w_list = np.array(w_list)\n",
    "\n",
    "print(f'В случае использования стохастического градиентного спуска функционал ошибки составляет {round(errors[-1], 4)}')"
   ]
  },
  {
   "cell_type": "code",
   "execution_count": 21,
   "metadata": {},
   "outputs": [
    {
     "data": {
      "text/plain": [
       "array([[ 0.00000000e+00,  0.00000000e+00],\n",
       "       [-8.77049099e-04,  1.16866253e-03],\n",
       "       [-3.96127668e-04,  1.28968368e-03],\n",
       "       ...,\n",
       "       [ 5.15102654e+01,  5.68746598e+01],\n",
       "       [ 5.15106202e+01,  5.68746459e+01],\n",
       "       [ 5.15106202e+01,  5.68746459e+01]])"
      ]
     },
     "execution_count": 21,
     "metadata": {},
     "output_type": "execute_result"
    }
   ],
   "source": [
    "# список векторов весов в результате стохастического градиентного спуска\n",
    "w_list"
   ]
  },
  {
   "cell_type": "markdown",
   "metadata": {},
   "source": [
    "###  Мини-пакетный градиентый спуск (mini-batch)"
   ]
  },
  {
   "cell_type": "code",
   "execution_count": 34,
   "metadata": {},
   "outputs": [
    {
     "name": "stdout",
     "output_type": "stream",
     "text": [
      "8184.644114641804\n",
      "3920.497887557403\n",
      "1905.365457367679\n",
      "946.1545188400883\n",
      "485.2597814395193\n",
      "261.1949315182071\n",
      "150.75062696932096\n",
      "95.48576574485979\n",
      "67.42873551732733\n",
      "53.02989175676518\n",
      "45.62377856356154\n",
      "41.86875740404378\n",
      "40.05220176494036\n",
      "39.27511665569377\n",
      "39.05425370051448\n",
      "39.124371053130936\n",
      "39.337715756309166\n",
      "39.61155702416963\n",
      "39.899991849181625\n",
      "40.17833696341293\n",
      "40.43424397434448\n",
      "40.662520303103626\n",
      "40.86205663438891\n",
      "41.033985557822064\n",
      "41.180576473691644\n",
      "41.30457823007235\n",
      "41.4088367597124\n",
      "41.49608210275936\n",
      "41.568819255520594\n",
      "41.62928177830997\n",
      "41.67942235641675\n",
      "41.72092414279395\n",
      "41.75522284133642\n",
      "41.78353340180979\n",
      "41.80687769002112\n",
      "41.82611107476551\n",
      "41.84194686034456\n",
      "41.85497809960353\n",
      "41.865696683814555\n",
      "41.87450981130984\n",
      "41.8817540443135\n",
      "41.887707210705024\n",
      "41.89259841854068\n",
      "41.8966164416942\n",
      "41.89991671466298\n",
      "41.902627149425655\n",
      "41.904852960924394\n",
      "41.90668066226623\n",
      "41.908181367273116\n",
      "41.909413516941946\n",
      "41.9104251279668\n",
      "41.91125564553163\n",
      "41.91193746894974\n",
      "41.9124972072201\n",
      "41.912956711828\n",
      "41.913333925987686\n",
      "41.913643582739404\n",
      "41.91389777865056\n",
      "41.914106445194605\n",
      "41.91427773598109\n",
      "41.91441834483078\n",
      "41.91453376699925\n",
      "41.914628513698936\n",
      "41.914706288256596\n",
      "41.914770130752245\n",
      "41.914822536776626\n",
      "41.91486555493252\n",
      "В случае использования mini-batch градиентного спуска функционал ошибки составляет 41.9149\n"
     ]
    }
   ],
   "source": [
    "# инициализируем начальный вектор весов\n",
    "w = np.zeros(2)\n",
    "\n",
    "# список векторов весов после каждой итерации\n",
    "w_list = [w.copy()]\n",
    "\n",
    "# список значений ошибок после каждой итерации\n",
    "errors = []\n",
    "\n",
    "# шаг градиентного спуска\n",
    "alpha = 0.01\n",
    "\n",
    "# максимальное число итераций\n",
    "max_iter = 1e5\n",
    "\n",
    "# критерий сходимости (разница весов, при которой алгоритм останавливается)\n",
    "min_weight_dist = 1e-8\n",
    "\n",
    "# зададим начальную разницу весов большим числом\n",
    "weight_dist = np.inf\n",
    "\n",
    "# счетчик итераций\n",
    "iter_num = 0\n",
    "\n",
    "# функция для генерации 10-ти случайных чисел из 1000\n",
    "a=np.random.randint(1000, size=10)\n",
    "\n",
    "# создадим mini-batch\n",
    "i = np.array(a)\n",
    "X = data[i]\n",
    "\n",
    "# ход градиентного спуска (уменьшаем на каждой итерации ошибку на объектах из mini-batch)\n",
    "while weight_dist > min_weight_dist and iter_num < max_iter:\n",
    "     \n",
    "    # генерируем случайный индекс объекта выборки (стохастический градиентый спуск)\n",
    "#    train_ind = np.random.choice(a)\n",
    "\n",
    "    # так не надо делать mini-batch градиентый спуск\n",
    "#    train_ind = np.random.randint(data.shape[0])\n",
    "\n",
    "    # мини-пакетный градиентый спуск (mini-batch)\n",
    "    new_w = w - 2 * alpha * np.dot(X.T, (np.dot(X, w) - target[i])) / target.shape[0]\n",
    "    \n",
    "    # стохастический градиентый спуск\n",
    "#    new_w = w - 2 * alpha * np.dot(data[train_ind].T, (np.dot(data[train_ind], w) - target[train_ind])) / target.shape[0]\n",
    "    \n",
    "    # пакетный градиентный спуск\n",
    "    #    new_w = w -  alpha * 2 * np.dot(X.T, (np.dot(X, w) - Y)) / Y.shape[0]  \n",
    "    \n",
    "    weight_dist = np.linalg.norm(new_w - w, ord=2)\n",
    "        \n",
    "    w_list.append(new_w.copy())\n",
    "    error=mserror(data, new_w, target)\n",
    "    errors.append(error)\n",
    "    if iter_num %1000==0:\n",
    "        print(error)\n",
    "    \n",
    "    iter_num += 1\n",
    "    w = new_w\n",
    "    \n",
    "w_list = np.array(w_list)\n",
    "\n",
    "print(f'В случае использования mini-batch градиентного спуска функционал ошибки составляет {round(errors[-1], 4)}')"
   ]
  },
  {
   "cell_type": "code",
   "execution_count": 35,
   "metadata": {},
   "outputs": [
    {
     "data": {
      "text/plain": [
       "array([[0.00000000e+00, 0.00000000e+00],\n",
       "       [2.01089748e-02, 2.77127441e-02],\n",
       "       [4.02110267e-02, 5.54144256e-02],\n",
       "       ...,\n",
       "       [6.29055066e+01, 6.66106991e+01],\n",
       "       [6.29055066e+01, 6.66106991e+01],\n",
       "       [6.29055066e+01, 6.66106991e+01]])"
      ]
     },
     "execution_count": 35,
     "metadata": {},
     "output_type": "execute_result"
    }
   ],
   "source": [
    "# список векторов весов в результате мини-пакетного градиентного спуска (mini-batch)\n",
    "w_list"
   ]
  }
 ],
 "metadata": {
  "kernelspec": {
   "display_name": "Python 3",
   "language": "python",
   "name": "python3"
  },
  "language_info": {
   "codemirror_mode": {
    "name": "ipython",
    "version": 3
   },
   "file_extension": ".py",
   "mimetype": "text/x-python",
   "name": "python",
   "nbconvert_exporter": "python",
   "pygments_lexer": "ipython3",
   "version": "3.7.6"
  }
 },
 "nbformat": 4,
 "nbformat_minor": 4
}
