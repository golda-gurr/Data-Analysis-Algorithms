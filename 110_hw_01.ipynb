{
 "cells": [
  {
   "cell_type": "markdown",
   "metadata": {},
   "source": [
    "# Курс \"Алгортимы анализа данных\""
   ]
  },
  {
   "cell_type": "markdown",
   "metadata": {},
   "source": [
    "## Практическое задание урока 1. Алгоритм линейной регрессии. Градиентный спуск"
   ]
  },
  {
   "cell_type": "markdown",
   "metadata": {},
   "source": [
    "Реализовать оптимизацию методом градиентного спуска для x^2(np.sin(0,5_x)^2+1). Какие параметры шага и количества итераций оптимальны? При каких значениях шага оптимизиция не выходит из локальных минимумов?"
   ]
  },
  {
   "cell_type": "code",
   "execution_count": 1,
   "metadata": {},
   "outputs": [],
   "source": [
    "import numpy as np\n",
    "import matplotlib.pyplot as plt\n",
    "\n",
    "%matplotlib inline"
   ]
  },
  {
   "cell_type": "code",
   "execution_count": 2,
   "metadata": {},
   "outputs": [],
   "source": [
    "def func(_x):\n",
    "    return (_x**2)*(np.sin(0.5*_x)**2+1)"
   ]
  },
  {
   "cell_type": "code",
   "execution_count": 3,
   "metadata": {},
   "outputs": [
    {
     "data": {
      "image/png": "[encoded data removed]",
      "text/plain": [
       "<Figure size 432x288 with 1 Axes>"
      ]
     },
     "metadata": {
      "needs_background": "light"
     },
     "output_type": "display_data"
    }
   ],
   "source": [
    "x = np.linspace(-50, 50, 500)\n",
    "y = func(x)\n",
    "plt.plot(x,y)\n",
    "plt.show()"
   ]
  },
  {
   "cell_type": "code",
   "execution_count": 78,
   "metadata": {},
   "outputs": [],
   "source": [
    "def func_derivative(_x):\n",
    "    return _x * (_x*np.sin(_x)*0.5 - np.cos(_x) + 3)"
   ]
  },
  {
   "cell_type": "code",
   "execution_count": 87,
   "metadata": {},
   "outputs": [],
   "source": [
    "# STEP_SIZE - Скорость обучения\n",
    "# STEP_COUNT - Количество итераций\n",
    "def itog(STEP_SIZE, STEP_COUNT):\n",
    "    previous_x, current_x = 1, 1\n",
    "    for i in range(STEP_COUNT):\n",
    "        current_x = previous_x - STEP_SIZE * func_derivative(previous_x)\n",
    "        previous_x = current_x\n",
    "        if i%10==0:\n",
    "            print(\"After\",i, \"steps x=\", format(current_x, \".6f\"), \"function value=\", format(func(current_x), \".6f\"))"
   ]
  },
  {
   "cell_type": "code",
   "execution_count": 88,
   "metadata": {},
   "outputs": [
    {
     "name": "stdout",
     "output_type": "stream",
     "text": [
      "After 0 steps x= 0.711957 function value= 0.568447\n",
      "After 10 steps x= 0.065700 function value= 0.004321\n",
      "After 20 steps x= 0.007044 function value= 0.000050\n",
      "After 30 steps x= 0.000756 function value= 0.000001\n",
      "After 40 steps x= 0.000081 function value= 0.000000\n",
      "After 50 steps x= 0.000009 function value= 0.000000\n",
      "After 60 steps x= 0.000001 function value= 0.000000\n",
      "After 70 steps x= 0.000000 function value= 0.000000\n",
      "After 80 steps x= 0.000000 function value= 0.000000\n",
      "After 90 steps x= 0.000000 function value= 0.000000\n"
     ]
    }
   ],
   "source": [
    "itog(0.1, 100)"
   ]
  },
  {
   "cell_type": "code",
   "execution_count": 89,
   "metadata": {},
   "outputs": [
    {
     "name": "stdout",
     "output_type": "stream",
     "text": [
      "After 0 steps x= 0.423913 function value= 0.187656\n",
      "After 10 steps x= 0.002343 function value= 0.000005\n",
      "After 20 steps x= 0.000014 function value= 0.000000\n",
      "After 30 steps x= 0.000000 function value= 0.000000\n",
      "After 40 steps x= 0.000000 function value= 0.000000\n",
      "After 50 steps x= 0.000000 function value= 0.000000\n",
      "After 60 steps x= 0.000000 function value= 0.000000\n",
      "After 70 steps x= 0.000000 function value= 0.000000\n",
      "After 80 steps x= 0.000000 function value= 0.000000\n",
      "After 90 steps x= 0.000000 function value= 0.000000\n"
     ]
    }
   ],
   "source": [
    "itog(0.2, 100)"
   ]
  },
  {
   "cell_type": "code",
   "execution_count": 90,
   "metadata": {},
   "outputs": [
    {
     "name": "stdout",
     "output_type": "stream",
     "text": [
      "After 0 steps x= -0.440217 function value= 0.203029\n",
      "After 10 steps x= 0.000000 function value= 0.000000\n",
      "After 20 steps x= 0.000000 function value= 0.000000\n",
      "After 30 steps x= 0.000000 function value= 0.000000\n",
      "After 40 steps x= 0.000000 function value= 0.000000\n",
      "After 50 steps x= 0.000000 function value= 0.000000\n",
      "After 60 steps x= 0.000000 function value= 0.000000\n",
      "After 70 steps x= 0.000000 function value= 0.000000\n",
      "After 80 steps x= 0.000000 function value= 0.000000\n",
      "After 90 steps x= 0.000000 function value= 0.000000\n"
     ]
    }
   ],
   "source": [
    "itog(0.5, 100)"
   ]
  },
  {
   "cell_type": "code",
   "execution_count": 92,
   "metadata": {},
   "outputs": [
    {
     "name": "stdout",
     "output_type": "stream",
     "text": [
      "After 0 steps x= -0.728260 function value= 0.597630\n",
      "After 10 steps x= -0.000000 function value= 0.000000\n",
      "After 20 steps x= -0.000000 function value= 0.000000\n",
      "After 30 steps x= -0.000000 function value= 0.000000\n",
      "After 40 steps x= -0.000000 function value= 0.000000\n",
      "After 50 steps x= -0.000000 function value= 0.000000\n",
      "After 60 steps x= -0.000000 function value= 0.000000\n",
      "After 70 steps x= -0.000000 function value= 0.000000\n",
      "After 80 steps x= -0.000000 function value= 0.000000\n",
      "After 90 steps x= -0.000000 function value= 0.000000\n"
     ]
    }
   ],
   "source": [
    "itog(0.6, 100) "
   ]
  },
  {
   "cell_type": "code",
   "execution_count": 91,
   "metadata": {},
   "outputs": [
    {
     "name": "stdout",
     "output_type": "stream",
     "text": [
      "After 0 steps x= -1.016303 function value= 1.277398\n",
      "After 10 steps x= 5.044270 function value= 34.021775\n",
      "After 20 steps x= 0.009713 function value= 0.000094\n",
      "After 30 steps x= 0.000001 function value= 0.000000\n",
      "After 40 steps x= 0.000000 function value= 0.000000\n",
      "After 50 steps x= 0.000000 function value= 0.000000\n",
      "After 60 steps x= 0.000000 function value= 0.000000\n",
      "After 70 steps x= 0.000000 function value= 0.000000\n",
      "After 80 steps x= 0.000000 function value= 0.000000\n",
      "After 90 steps x= 0.000000 function value= 0.000000\n"
     ]
    }
   ],
   "source": [
    "itog(0.7, 100) "
   ]
  }
 ],
 "metadata": {
  "kernelspec": {
   "display_name": "Python 3",
   "language": "python",
   "name": "python3"
  },
  "language_info": {
   "codemirror_mode": {
    "name": "ipython",
    "version": 3
   },
   "file_extension": ".py",
   "mimetype": "text/x-python",
   "name": "python",
   "nbconvert_exporter": "python",
   "pygments_lexer": "ipython3",
   "version": "3.7.6"
  }
 },
 "nbformat": 4,
 "nbformat_minor": 4
}
